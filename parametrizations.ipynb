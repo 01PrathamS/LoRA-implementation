{
  "nbformat": 4,
  "nbformat_minor": 0,
  "metadata": {
    "colab": {
      "provenance": [],
      "authorship_tag": "ABX9TyO3OckBF6gjXnU2UAyILxGN",
      "include_colab_link": true
    },
    "kernelspec": {
      "name": "python3",
      "display_name": "Python 3"
    },
    "language_info": {
      "name": "python"
    }
  },
  "cells": [
    {
      "cell_type": "markdown",
      "metadata": {
        "id": "view-in-github",
        "colab_type": "text"
      },
      "source": [
        "<a href=\"https://colab.research.google.com/github/01PrathamS/LoRA-implementation/blob/main/parametrizations.ipynb\" target=\"_parent\"><img src=\"https://colab.research.google.com/assets/colab-badge.svg\" alt=\"Open In Colab\"/></a>"
      ]
    },
    {
      "cell_type": "code",
      "execution_count": 3,
      "metadata": {
        "colab": {
          "base_uri": "https://localhost:8080/"
        },
        "id": "tU9YzqnwwGw-",
        "outputId": "9082201c-aa68-4046-9f19-e516fa6a2271"
      },
      "outputs": [
        {
          "output_type": "stream",
          "name": "stdout",
          "text": [
            "tensor([[0.3591, 0.4300, 0.2926],\n",
            "        [0.4300, 0.3828, 0.5075],\n",
            "        [0.2926, 0.5075, 0.7881]])\n"
          ]
        }
      ],
      "source": [
        "import torch\n",
        "import torch.nn as nn\n",
        "import torch.nn.utils.parametrize as parametrize\n",
        "\n",
        "def symmetric(X):\n",
        "  return X.triu() + X.triu(1).transpose(-1, -2)\n",
        "\n",
        "X = torch.rand(3, 3)\n",
        "A = symmetric(X)\n",
        "assert torch.allclose(A, A.T)\n",
        "print(A)"
      ]
    },
    {
      "cell_type": "code",
      "source": [
        "class LinearSymmetric(nn.Module):\n",
        "  def __init__(self, n_features):\n",
        "    super().__init__()\n",
        "    self.weight = nn.Parameter(torch.rand(n_features, n_features))\n",
        "\n",
        "  def forward(self, x):\n",
        "    A = symmetric(self.weight)\n",
        "    return x @ A\n",
        "\n",
        "layer = LinearSymmetric(3)\n",
        "out = layer(torch.rand(8, 3))"
      ],
      "metadata": {
        "id": "xL_MRjpaww1x"
      },
      "execution_count": 4,
      "outputs": []
    },
    {
      "cell_type": "code",
      "source": [
        "class Symmetric(nn.Module):\n",
        "  def forward(self, X):\n",
        "    return X.triu() + X.triu(1).transpose(-1, -2)"
      ],
      "metadata": {
        "id": "9eIE2lUhxOMP"
      },
      "execution_count": 5,
      "outputs": []
    },
    {
      "cell_type": "code",
      "source": [
        "layer = nn.Linear(3, 3)\n",
        "parametrize.register_parametrization(layer, \"weight\", Symmetric())"
      ],
      "metadata": {
        "colab": {
          "base_uri": "https://localhost:8080/"
        },
        "id": "hYROFWfAxe3_",
        "outputId": "c4451288-fc5c-4439-b12e-302c88c84235"
      },
      "execution_count": 6,
      "outputs": [
        {
          "output_type": "execute_result",
          "data": {
            "text/plain": [
              "ParametrizedLinear(\n",
              "  in_features=3, out_features=3, bias=True\n",
              "  (parametrizations): ModuleDict(\n",
              "    (weight): ParametrizationList(\n",
              "      (0): Symmetric()\n",
              "    )\n",
              "  )\n",
              ")"
            ]
          },
          "metadata": {},
          "execution_count": 6
        }
      ]
    },
    {
      "cell_type": "code",
      "source": [
        "A = layer.weight\n",
        "assert torch.allclose(A, A.T)\n",
        "print(A)"
      ],
      "metadata": {
        "colab": {
          "base_uri": "https://localhost:8080/"
        },
        "id": "iTycNIwWxlm3",
        "outputId": "5a3dbb83-ed41-4cb3-a425-fef8c9a0121e"
      },
      "execution_count": 7,
      "outputs": [
        {
          "output_type": "stream",
          "name": "stdout",
          "text": [
            "tensor([[ 0.5212, -0.1496,  0.2497],\n",
            "        [-0.1496, -0.0876, -0.1411],\n",
            "        [ 0.2497, -0.1411,  0.3449]], grad_fn=<AddBackward0>)\n"
          ]
        }
      ]
    },
    {
      "cell_type": "code",
      "source": [
        "class Skew(nn.Module):\n",
        "  def forward(self, X):\n",
        "    A = X.triu(1)\n",
        "    return A - A.transpose(-1, -2)\n",
        "\n",
        "cnn = nn.Conv2d(in_channels=5, out_channels=8, kernel_size=3)\n",
        "parametrize.register_parametrization(cnn, \"weight\", Skew())\n",
        "\n",
        "print(cnn.weight[0, 1])\n",
        "print(cnn.weight[2, 2])"
      ],
      "metadata": {
        "colab": {
          "base_uri": "https://localhost:8080/"
        },
        "id": "HIfBr-GNxrKA",
        "outputId": "87fd1f0d-63a2-4420-e6a9-4df7191fa37a"
      },
      "execution_count": 9,
      "outputs": [
        {
          "output_type": "stream",
          "name": "stdout",
          "text": [
            "tensor([[ 0.0000, -0.0672, -0.0074],\n",
            "        [ 0.0672,  0.0000, -0.1400],\n",
            "        [ 0.0074,  0.1400,  0.0000]], grad_fn=<SelectBackward0>)\n",
            "tensor([[ 0.0000, -0.1461, -0.0274],\n",
            "        [ 0.1461,  0.0000,  0.0941],\n",
            "        [ 0.0274, -0.0941,  0.0000]], grad_fn=<SelectBackward0>)\n"
          ]
        }
      ]
    },
    {
      "cell_type": "code",
      "source": [
        "layer = nn.Linear(3, 3)\n",
        "\n",
        "print(f\"Unparametrized:\\n{layer}\")\n",
        "parametrize.register_parametrization(layer, \"weight\", Symmetric())\n",
        "print(f\"\\nParametrized:\\n{layer}\")"
      ],
      "metadata": {
        "colab": {
          "base_uri": "https://localhost:8080/"
        },
        "id": "RrwJKx6kyFJd",
        "outputId": "95202f9d-0501-45dd-afe7-635af218776c"
      },
      "execution_count": 10,
      "outputs": [
        {
          "output_type": "stream",
          "name": "stdout",
          "text": [
            "Unparametrized:\n",
            "Linear(in_features=3, out_features=3, bias=True)\n",
            "\n",
            "Parametrized:\n",
            "ParametrizedLinear(\n",
            "  in_features=3, out_features=3, bias=True\n",
            "  (parametrizations): ModuleDict(\n",
            "    (weight): ParametrizationList(\n",
            "      (0): Symmetric()\n",
            "    )\n",
            "  )\n",
            ")\n"
          ]
        }
      ]
    },
    {
      "cell_type": "code",
      "source": [
        "print(layer.parametrizations)\n",
        "print(layer.parametrizations.weight)"
      ],
      "metadata": {
        "colab": {
          "base_uri": "https://localhost:8080/"
        },
        "id": "vn7q2gYSyVTU",
        "outputId": "60656f91-0dfb-4962-aac1-7cf781839722"
      },
      "execution_count": 11,
      "outputs": [
        {
          "output_type": "stream",
          "name": "stdout",
          "text": [
            "ModuleDict(\n",
            "  (weight): ParametrizationList(\n",
            "    (0): Symmetric()\n",
            "  )\n",
            ")\n",
            "ParametrizationList(\n",
            "  (0): Symmetric()\n",
            ")\n"
          ]
        }
      ]
    },
    {
      "cell_type": "code",
      "source": [
        "print(layer.parametrizations.weight[0])"
      ],
      "metadata": {
        "colab": {
          "base_uri": "https://localhost:8080/"
        },
        "id": "O0FrFanCyaeR",
        "outputId": "0b854c2a-84a9-43f0-9efd-a81fc4a82d47"
      },
      "execution_count": 12,
      "outputs": [
        {
          "output_type": "stream",
          "name": "stdout",
          "text": [
            "Symmetric()\n"
          ]
        }
      ]
    },
    {
      "cell_type": "code",
      "source": [
        "print(dict(layer.named_parameters()))"
      ],
      "metadata": {
        "colab": {
          "base_uri": "https://localhost:8080/"
        },
        "id": "Pr1Ox5LVyeWx",
        "outputId": "3fad07af-8c7a-4ce1-b592-5bf6e991aeba"
      },
      "execution_count": 13,
      "outputs": [
        {
          "output_type": "stream",
          "name": "stdout",
          "text": [
            "{'bias': Parameter containing:\n",
            "tensor([0.4899, 0.4747, 0.2256], requires_grad=True), 'parametrizations.weight.original': Parameter containing:\n",
            "tensor([[ 0.0733,  0.4334, -0.2508],\n",
            "        [ 0.5538,  0.0838, -0.3891],\n",
            "        [-0.2744, -0.2643,  0.4379]], requires_grad=True)}\n"
          ]
        }
      ]
    },
    {
      "cell_type": "code",
      "source": [
        "print(layer.parametrizations.weight.original)"
      ],
      "metadata": {
        "colab": {
          "base_uri": "https://localhost:8080/"
        },
        "id": "tQOq7qcDyh2i",
        "outputId": "54691bea-a3af-4c76-a5c0-92262f85259f"
      },
      "execution_count": 14,
      "outputs": [
        {
          "output_type": "stream",
          "name": "stdout",
          "text": [
            "Parameter containing:\n",
            "tensor([[ 0.0733,  0.4334, -0.2508],\n",
            "        [ 0.5538,  0.0838, -0.3891],\n",
            "        [-0.2744, -0.2643,  0.4379]], requires_grad=True)\n"
          ]
        }
      ]
    },
    {
      "cell_type": "code",
      "source": [
        "symmetric = Symmetric()\n",
        "weight_orig = layer.parametrizations.weight.original\n",
        "print(torch.dist(layer.weight, symmetric(weight_orig)))"
      ],
      "metadata": {
        "colab": {
          "base_uri": "https://localhost:8080/"
        },
        "id": "xyR8uiN_ykoV",
        "outputId": "6ec89bd8-80bd-4e1e-ddf6-7ac07dd493b7"
      },
      "execution_count": 16,
      "outputs": [
        {
          "output_type": "stream",
          "name": "stdout",
          "text": [
            "tensor(0., grad_fn=<DistBackward0>)\n"
          ]
        }
      ]
    },
    {
      "cell_type": "code",
      "source": [
        "class NoisyParametrization(nn.Module):\n",
        "  def forward(self, X):\n",
        "    print(\"Computing the Parametrization\")\n",
        "    return X\n",
        "\n",
        "layer = nn.Linear(4, 4)\n",
        "parametrize.register_parametrization(layer, \"weight\", NoisyParametrization())\n",
        "print(\"Here, layer.weight is recomputed every time we call it\")\n",
        "foo = layer.weight + layer.weight.T\n",
        "bar = layer.weight.sum()\n",
        "with parametrize.cached():\n",
        "  print(\"Here, it is computed just the first time layer.weight is called.\")\n",
        "  foo = layer.weight + layer.weight.T\n",
        "  bar = layer.weight.sum()"
      ],
      "metadata": {
        "colab": {
          "base_uri": "https://localhost:8080/"
        },
        "id": "unnkz0PMywfm",
        "outputId": "2c1a0418-6377-438b-cd29-c91c2f88816c"
      },
      "execution_count": 17,
      "outputs": [
        {
          "output_type": "stream",
          "name": "stdout",
          "text": [
            "Computing the Parametrization\n",
            "Here, layer.weight is recomputed every time we call it\n",
            "Computing the Parametrization\n",
            "Computing the Parametrization\n",
            "Computing the Parametrization\n",
            "Here, it is computed just the first time layer.weight is called.\n",
            "Computing the Parametrization\n"
          ]
        }
      ]
    },
    {
      "cell_type": "code",
      "source": [
        "# Concatenating Parametrizations\n",
        "\n"
      ],
      "metadata": {
        "id": "01W8L6rAzZvE"
      },
      "execution_count": null,
      "outputs": []
    }
  ]
}